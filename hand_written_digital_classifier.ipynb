{
 "cells": [
  {
   "cell_type": "code",
   "execution_count": 1,
   "id": "fe0381c9",
   "metadata": {},
   "outputs": [],
   "source": [
    "import numpy as np"
   ]
  },
  {
   "cell_type": "code",
   "execution_count": 3,
   "id": "cb5daad5",
   "metadata": {},
   "outputs": [],
   "source": [
    "import pandas as pd"
   ]
  },
  {
   "cell_type": "code",
   "execution_count": 2,
   "id": "7ce1602a",
   "metadata": {},
   "outputs": [],
   "source": [
    "import matplotlib.pyplot as  plt"
   ]
  },
  {
   "cell_type": "code",
   "execution_count": 7,
   "id": "332d21e3",
   "metadata": {},
   "outputs": [],
   "source": [
    "from sklearn.datasets import load_digits\n"
   ]
  },
  {
   "cell_type": "code",
   "execution_count": 9,
   "id": "0b626a3f",
   "metadata": {},
   "outputs": [],
   "source": [
    "df = load_digits()"
   ]
  },
  {
   "cell_type": "code",
   "execution_count": 10,
   "id": "97f6cb50",
   "metadata": {},
   "outputs": [
    {
     "data": {
      "image/png": "[encoded data removed]",
      "text/plain": [
       "<Figure size 1000x300 with 4 Axes>"
      ]
     },
     "metadata": {},
     "output_type": "display_data"
    }
   ],
   "source": [
    "_, axes = plt.subplots(nrows=1, ncols=4, figsize=(10, 3))\n",
    "for ax, image, label in zip(axes, df.images, df.target):\n",
    "    ax.set_axis_off()\n",
    "    ax.imshow(image, cmap = plt.cm.gray_r, interpolation=\"nearest\")\n",
    "    ax.set_title(\"Training: %i\"% label)"
   ]
  },
  {
   "cell_type": "code",
   "execution_count": 11,
   "id": "2e43d75a",
   "metadata": {},
   "outputs": [
    {
     "data": {
      "text/plain": [
       "(1797, 8, 8)"
      ]
     },
     "execution_count": 11,
     "metadata": {},
     "output_type": "execute_result"
    }
   ],
   "source": [
    "df.images.shape"
   ]
  },
  {
   "cell_type": "code",
   "execution_count": 13,
   "id": "15ffdf84",
   "metadata": {},
   "outputs": [
    {
     "data": {
      "text/plain": [
       "array([[ 0.,  0.,  5., 13.,  9.,  1.,  0.,  0.],\n",
       "       [ 0.,  0., 13., 15., 10., 15.,  5.,  0.],\n",
       "       [ 0.,  3., 15.,  2.,  0., 11.,  8.,  0.],\n",
       "       [ 0.,  4., 12.,  0.,  0.,  8.,  8.,  0.],\n",
       "       [ 0.,  5.,  8.,  0.,  0.,  9.,  8.,  0.],\n",
       "       [ 0.,  4., 11.,  0.,  1., 12.,  7.,  0.],\n",
       "       [ 0.,  2., 14.,  5., 10., 12.,  0.,  0.],\n",
       "       [ 0.,  0.,  6., 13., 10.,  0.,  0.,  0.]])"
      ]
     },
     "execution_count": 13,
     "metadata": {},
     "output_type": "execute_result"
    }
   ],
   "source": [
    "df.images[0]"
   ]
  },
  {
   "cell_type": "code",
   "execution_count": 14,
   "id": "8a146fcb",
   "metadata": {},
   "outputs": [
    {
     "data": {
      "text/plain": [
       "(8, 8)"
      ]
     },
     "execution_count": 14,
     "metadata": {},
     "output_type": "execute_result"
    }
   ],
   "source": [
    "df.images[0].shape"
   ]
  },
  {
   "cell_type": "code",
   "execution_count": 15,
   "id": "14c751da",
   "metadata": {},
   "outputs": [
    {
     "data": {
      "text/plain": [
       "1797"
      ]
     },
     "execution_count": 15,
     "metadata": {},
     "output_type": "execute_result"
    }
   ],
   "source": [
    "len(df.images)"
   ]
  },
  {
   "cell_type": "code",
   "execution_count": 16,
   "id": "c736ddca",
   "metadata": {},
   "outputs": [],
   "source": [
    "n_samples = len(df.images)\n",
    "data = df.images.reshape((n_samples, -1))"
   ]
  },
  {
   "cell_type": "code",
   "execution_count": 17,
   "id": "379e13ee",
   "metadata": {},
   "outputs": [
    {
     "data": {
      "text/plain": [
       "array([ 0.,  0.,  5., 13.,  9.,  1.,  0.,  0.,  0.,  0., 13., 15., 10.,\n",
       "       15.,  5.,  0.,  0.,  3., 15.,  2.,  0., 11.,  8.,  0.,  0.,  4.,\n",
       "       12.,  0.,  0.,  8.,  8.,  0.,  0.,  5.,  8.,  0.,  0.,  9.,  8.,\n",
       "        0.,  0.,  4., 11.,  0.,  1., 12.,  7.,  0.,  0.,  2., 14.,  5.,\n",
       "       10., 12.,  0.,  0.,  0.,  0.,  6., 13., 10.,  0.,  0.,  0.])"
      ]
     },
     "execution_count": 17,
     "metadata": {},
     "output_type": "execute_result"
    }
   ],
   "source": [
    "data[0]"
   ]
  },
  {
   "cell_type": "code",
   "execution_count": 18,
   "id": "308ec586",
   "metadata": {},
   "outputs": [
    {
     "data": {
      "text/plain": [
       "(64,)"
      ]
     },
     "execution_count": 18,
     "metadata": {},
     "output_type": "execute_result"
    }
   ],
   "source": [
    "data[0].shape"
   ]
  },
  {
   "cell_type": "code",
   "execution_count": 19,
   "id": "7469ac52",
   "metadata": {},
   "outputs": [
    {
     "data": {
      "text/plain": [
       "(1797, 64)"
      ]
     },
     "execution_count": 19,
     "metadata": {},
     "output_type": "execute_result"
    }
   ],
   "source": [
    "data.shape"
   ]
  },
  {
   "cell_type": "code",
   "execution_count": 20,
   "id": "574eac4c",
   "metadata": {},
   "outputs": [
    {
     "data": {
      "text/plain": [
       "0.0"
      ]
     },
     "execution_count": 20,
     "metadata": {},
     "output_type": "execute_result"
    }
   ],
   "source": [
    "data.min()"
   ]
  },
  {
   "cell_type": "code",
   "execution_count": 22,
   "id": "010a49a4",
   "metadata": {},
   "outputs": [
    {
     "data": {
      "text/plain": [
       "16.0"
      ]
     },
     "execution_count": 22,
     "metadata": {},
     "output_type": "execute_result"
    }
   ],
   "source": [
    "data.max()"
   ]
  },
  {
   "cell_type": "code",
   "execution_count": 23,
   "id": "57403924",
   "metadata": {},
   "outputs": [],
   "source": [
    "data = data/16"
   ]
  },
  {
   "cell_type": "code",
   "execution_count": 24,
   "id": "d7ae129c",
   "metadata": {},
   "outputs": [
    {
     "data": {
      "text/plain": [
       "0.0"
      ]
     },
     "execution_count": 24,
     "metadata": {},
     "output_type": "execute_result"
    }
   ],
   "source": [
    "data.min()"
   ]
  },
  {
   "cell_type": "code",
   "execution_count": 25,
   "id": "6cfdf93a",
   "metadata": {},
   "outputs": [
    {
     "data": {
      "text/plain": [
       "1.0"
      ]
     },
     "execution_count": 25,
     "metadata": {},
     "output_type": "execute_result"
    }
   ],
   "source": [
    "data.max()"
   ]
  },
  {
   "cell_type": "code",
   "execution_count": 26,
   "id": "d3b5c2e8",
   "metadata": {},
   "outputs": [
    {
     "data": {
      "text/plain": [
       "array([0.    , 0.    , 0.3125, 0.8125, 0.5625, 0.0625, 0.    , 0.    ,\n",
       "       0.    , 0.    , 0.8125, 0.9375, 0.625 , 0.9375, 0.3125, 0.    ,\n",
       "       0.    , 0.1875, 0.9375, 0.125 , 0.    , 0.6875, 0.5   , 0.    ,\n",
       "       0.    , 0.25  , 0.75  , 0.    , 0.    , 0.5   , 0.5   , 0.    ,\n",
       "       0.    , 0.3125, 0.5   , 0.    , 0.    , 0.5625, 0.5   , 0.    ,\n",
       "       0.    , 0.25  , 0.6875, 0.    , 0.0625, 0.75  , 0.4375, 0.    ,\n",
       "       0.    , 0.125 , 0.875 , 0.3125, 0.625 , 0.75  , 0.    , 0.    ,\n",
       "       0.    , 0.    , 0.375 , 0.8125, 0.625 , 0.    , 0.    , 0.    ])"
      ]
     },
     "execution_count": 26,
     "metadata": {},
     "output_type": "execute_result"
    }
   ],
   "source": [
    "data[0]"
   ]
  },
  {
   "cell_type": "code",
   "execution_count": 27,
   "id": "61fbe05d",
   "metadata": {},
   "outputs": [],
   "source": [
    "from sklearn.model_selection import train_test_split"
   ]
  },
  {
   "cell_type": "code",
   "execution_count": 28,
   "id": "8289ccfc",
   "metadata": {},
   "outputs": [],
   "source": [
    "X_train,X_test,y_train,y_test = train_test_split(data , df.target, test_size = 0.3)"
   ]
  },
  {
   "cell_type": "code",
   "execution_count": 29,
   "id": "a5288807",
   "metadata": {},
   "outputs": [
    {
     "data": {
      "text/plain": [
       "((1257, 64), (540, 64), (1257,), (540,))"
      ]
     },
     "execution_count": 29,
     "metadata": {},
     "output_type": "execute_result"
    }
   ],
   "source": [
    "X_train.shape, X_test.shape, y_train.shape, y_test.shape"
   ]
  },
  {
   "cell_type": "code",
   "execution_count": 30,
   "id": "bb6f7781",
   "metadata": {},
   "outputs": [],
   "source": [
    "from sklearn.ensemble import RandomForestClassifier"
   ]
  },
  {
   "cell_type": "code",
   "execution_count": 31,
   "id": "9d4e29ae",
   "metadata": {},
   "outputs": [],
   "source": [
    "rf= RandomForestClassifier()"
   ]
  },
  {
   "cell_type": "code",
   "execution_count": 32,
   "id": "5a28751d",
   "metadata": {},
   "outputs": [
    {
     "data": {
      "text/plain": [
       "RandomForestClassifier()"
      ]
     },
     "execution_count": 32,
     "metadata": {},
     "output_type": "execute_result"
    }
   ],
   "source": [
    "rf.fit(X_train,y_train)"
   ]
  },
  {
   "cell_type": "code",
   "execution_count": 33,
   "id": "d411b804",
   "metadata": {},
   "outputs": [],
   "source": [
    "y_pred = rf.predict(X_test)"
   ]
  },
  {
   "cell_type": "code",
   "execution_count": 34,
   "id": "79e84a28",
   "metadata": {},
   "outputs": [
    {
     "data": {
      "text/plain": [
       "array([4, 9, 8, 7, 3, 8, 9, 5, 7, 7, 3, 0, 7, 4, 0, 6, 5, 1, 7, 9, 3, 7,\n",
       "       0, 8, 3, 8, 7, 5, 2, 0, 7, 8, 4, 3, 5, 0, 2, 8, 9, 5, 9, 1, 3, 0,\n",
       "       7, 4, 3, 1, 3, 3, 1, 2, 4, 0, 5, 5, 3, 3, 8, 0, 1, 9, 7, 3, 4, 2,\n",
       "       9, 1, 9, 2, 0, 5, 6, 2, 7, 1, 5, 1, 1, 7, 7, 8, 2, 2, 8, 7, 4, 3,\n",
       "       4, 9, 3, 1, 2, 0, 9, 8, 1, 2, 4, 2, 8, 6, 3, 4, 7, 9, 0, 2, 9, 5,\n",
       "       9, 8, 1, 3, 8, 8, 8, 5, 3, 7, 0, 0, 5, 7, 3, 2, 8, 5, 4, 9, 0, 3,\n",
       "       1, 9, 9, 8, 5, 9, 9, 6, 2, 0, 0, 9, 4, 0, 6, 5, 7, 3, 0, 6, 7, 2,\n",
       "       1, 3, 3, 5, 7, 7, 4, 1, 6, 3, 3, 5, 2, 0, 4, 3, 5, 6, 4, 6, 8, 5,\n",
       "       1, 9, 2, 5, 5, 1, 1, 4, 8, 6, 4, 3, 0, 9, 6, 9, 8, 6, 1, 5, 3, 5,\n",
       "       6, 3, 9, 6, 1, 1, 8, 6, 3, 7, 2, 4, 9, 9, 7, 9, 8, 4, 3, 3, 5, 8,\n",
       "       3, 3, 9, 4, 4, 7, 7, 7, 9, 6, 0, 5, 2, 9, 0, 3, 8, 0, 2, 3, 1, 1,\n",
       "       4, 6, 7, 2, 5, 2, 2, 1, 8, 7, 2, 8, 1, 1, 3, 0, 0, 4, 3, 6, 4, 8,\n",
       "       6, 8, 6, 6, 5, 9, 7, 7, 5, 0, 5, 8, 4, 6, 5, 1, 8, 3, 2, 9, 7, 7,\n",
       "       5, 1, 9, 5, 5, 6, 5, 6, 3, 6, 8, 1, 6, 0, 7, 3, 2, 3, 2, 7, 4, 2,\n",
       "       7, 3, 2, 8, 7, 5, 6, 6, 1, 9, 5, 1, 3, 3, 3, 1, 6, 6, 7, 8, 5, 1,\n",
       "       4, 4, 3, 7, 6, 2, 1, 8, 6, 0, 4, 8, 3, 0, 9, 9, 5, 4, 4, 8, 6, 2,\n",
       "       4, 2, 7, 5, 0, 0, 0, 4, 2, 2, 2, 2, 2, 8, 5, 1, 4, 6, 0, 0, 2, 7,\n",
       "       3, 4, 9, 7, 9, 6, 3, 3, 7, 4, 2, 2, 0, 3, 9, 1, 8, 1, 1, 1, 5, 9,\n",
       "       6, 9, 6, 9, 3, 9, 2, 2, 4, 5, 5, 9, 2, 3, 5, 0, 1, 6, 6, 9, 5, 0,\n",
       "       5, 1, 9, 7, 2, 8, 4, 8, 9, 3, 1, 7, 7, 5, 5, 4, 5, 5, 9, 3, 6, 6,\n",
       "       2, 9, 1, 3, 3, 8, 7, 0, 8, 9, 3, 4, 0, 3, 1, 1, 1, 6, 6, 5, 7, 5,\n",
       "       6, 2, 0, 7, 3, 5, 5, 6, 0, 8, 2, 2, 0, 4, 8, 1, 4, 1, 8, 4, 8, 3,\n",
       "       6, 7, 4, 7, 8, 6, 0, 4, 0, 4, 5, 6, 8, 9, 4, 0, 0, 0, 7, 9, 4, 1,\n",
       "       2, 1, 9, 9, 0, 3, 1, 5, 4, 3, 5, 0, 6, 3, 3, 1, 7, 3, 7, 1, 8, 6,\n",
       "       6, 2, 7, 4, 7, 7, 4, 5, 4, 8, 3, 2])"
      ]
     },
     "execution_count": 34,
     "metadata": {},
     "output_type": "execute_result"
    }
   ],
   "source": [
    "y_pred"
   ]
  },
  {
   "cell_type": "code",
   "execution_count": 35,
   "id": "e2d8dfbe",
   "metadata": {},
   "outputs": [],
   "source": [
    "from sklearn.metrics import confusion_matrix,classification_report"
   ]
  },
  {
   "cell_type": "code",
   "execution_count": 36,
   "id": "e566346a",
   "metadata": {},
   "outputs": [
    {
     "data": {
      "text/plain": [
       "array([[48,  0,  0,  0,  0,  0,  0,  0,  0,  0],\n",
       "       [ 0, 50,  0,  0,  0,  0,  0,  0,  0,  0],\n",
       "       [ 0,  0, 50,  0,  0,  0,  0,  0,  0,  0],\n",
       "       [ 0,  1,  0, 67,  0,  0,  0,  0,  2,  0],\n",
       "       [ 0,  0,  0,  0, 52,  0,  0,  1,  1,  0],\n",
       "       [ 0,  0,  0,  0,  0, 56,  0,  0,  0,  0],\n",
       "       [ 1,  0,  0,  0,  0,  0, 51,  0,  0,  0],\n",
       "       [ 0,  0,  0,  0,  0,  0,  0, 55,  0,  1],\n",
       "       [ 0,  2,  1,  0,  0,  1,  0,  0, 47,  1],\n",
       "       [ 0,  0,  0,  0,  0,  1,  0,  0,  0, 51]], dtype=int64)"
      ]
     },
     "execution_count": 36,
     "metadata": {},
     "output_type": "execute_result"
    }
   ],
   "source": [
    "confusion_matrix(y_test, y_pred)"
   ]
  },
  {
   "cell_type": "code",
   "execution_count": 37,
   "id": "50ce81d5",
   "metadata": {},
   "outputs": [
    {
     "name": "stdout",
     "output_type": "stream",
     "text": [
      "              precision    recall  f1-score   support\n",
      "\n",
      "           0       0.98      1.00      0.99        48\n",
      "           1       0.94      1.00      0.97        50\n",
      "           2       0.98      1.00      0.99        50\n",
      "           3       1.00      0.96      0.98        70\n",
      "           4       1.00      0.96      0.98        54\n",
      "           5       0.97      1.00      0.98        56\n",
      "           6       1.00      0.98      0.99        52\n",
      "           7       0.98      0.98      0.98        56\n",
      "           8       0.94      0.90      0.92        52\n",
      "           9       0.96      0.98      0.97        52\n",
      "\n",
      "    accuracy                           0.98       540\n",
      "   macro avg       0.98      0.98      0.98       540\n",
      "weighted avg       0.98      0.98      0.98       540\n",
      "\n"
     ]
    }
   ],
   "source": [
    "print(classification_report(y_test, y_pred))"
   ]
  },
  {
   "cell_type": "code",
   "execution_count": null,
   "id": "d6e5dff8",
   "metadata": {},
   "outputs": [],
   "source": []
  }
 ],
 "metadata": {
  "kernelspec": {
   "display_name": "Python 3 (ipykernel)",
   "language": "python",
   "name": "python3"
  },
  "language_info": {
   "codemirror_mode": {
    "name": "ipython",
    "version": 3
   },
   "file_extension": ".py",
   "mimetype": "text/x-python",
   "name": "python",
   "nbconvert_exporter": "python",
   "pygments_lexer": "ipython3",
   "version": "3.9.13"
  }
 },
 "nbformat": 4,
 "nbformat_minor": 5
}
